{
 "cells": [
  {
   "cell_type": "markdown",
   "metadata": {},
   "source": [
    "# Chapter 2 : Getting started"
   ]
  },
  {
   "cell_type": "markdown",
   "metadata": {},
   "source": [
    "## 2.1 Insertion sort\n",
    "\n",
    "- Comment : We do not care about loop invariant at the moment."
   ]
  },
  {
   "cell_type": "markdown",
   "metadata": {},
   "source": [
    "### 2.1-1\n",
    "\n",
    "**Using Figure 2.2 as a model, illustrate the operation of INSERTION-SORT on the array A = [31; 41; 59; 26; 41; 58].**\n",
    "\n",
    "A = [31; 41; 59; 26; 41; 58].\n",
    "\n",
    "A = [31; 41; 59; 26; 41; 58].\n",
    "\n",
    "A = [26; 31; 41; 59; 41; 58].\n",
    "\n",
    "A = [26; 31; 41; 41; 59; 58].\n",
    "\n",
    "A = [26; 31; 41; 41; 58; 59]."
   ]
  },
  {
   "cell_type": "markdown",
   "metadata": {},
   "source": [
    "### 2.1-2\n",
    "\n",
    "**Rewrite the INSERTION-SORT procedure to sort into nonincreasing instead of non- decreasing order.**"
   ]
  },
  {
   "cell_type": "code",
   "execution_count": 1,
   "metadata": {},
   "outputs": [],
   "source": [
    "import random\n",
    "\n",
    "def insertion_sort_descending(A, n):\n",
    "    for j in range(1, n):\n",
    "        key = A[j]\n",
    "        i = j-1\n",
    "        while i >= 0 and A[i]<key:\n",
    "            A[i+1] = A[i]\n",
    "            i = i - 1\n",
    "        A[i+1] = key\n",
    "    return A\n",
    "\n",
    "input = [random.randint(-1000, 1000) for _ in range(10000)]\n",
    "output = insertion_sort_descending(input.copy(), len(input))\n",
    "\n",
    "assert sorted(input, reverse=True) == output"
   ]
  },
  {
   "cell_type": "markdown",
   "metadata": {},
   "source": [
    "### 2.1 -3\n",
    "\n",
    "**Consider the searching problem:**\n",
    "\n",
    "**Input: A sequence of n numbers A[a_1; a_2; ...; a_n] and a value v.**\n",
    "\n",
    "**Output: An index i such that v = A[i] or the special value NIL if v does notappear in A.**\n",
    "\n",
    "**Write pseudocode for linear search, which scans through the sequence, looking for v. Using a loop invariant, prove that your algorithm is correct. Make sure that your loop invariant fulfills the three necessary properties.**"
   ]
  },
  {
   "cell_type": "code",
   "execution_count": 2,
   "metadata": {},
   "outputs": [],
   "source": [
    "def is_in(A, n, v):\n",
    "    for i in range(n):\n",
    "        if A[i] == v:\n",
    "            return i\n",
    "    return None\n",
    "\n",
    "inputs = [[random.randint(0, 1000) for _ in range(100)] for i in range(50)]\n",
    "vs = [random.randint(0, 1000) for _ in range(50)]\n",
    "\n",
    "for A, v in zip(inputs, vs):\n",
    "    imp = is_in(A.copy(), len(A), v)\n",
    "    cor = A.index(v) if v in A else None\n",
    "\n",
    "    assert imp == cor, f\"{imp=}, {cor=}, {v=}\\n{A=}\""
   ]
  },
  {
   "cell_type": "markdown",
   "metadata": {},
   "source": [
    "### 2.1-4\n",
    "\n",
    "\n",
    "**Consider the problem of adding two n-bit binary integers, stored in two n-element arrays A and B. The sum of the two integers should be stored in binary form in an (n + 1)-element array C . State the problem formally and write pseudocode for adding the two integers.**"
   ]
  },
  {
   "cell_type": "code",
   "execution_count": 3,
   "metadata": {},
   "outputs": [],
   "source": [
    "def bit_sum(A, B, n):\n",
    "    r = 0\n",
    "    C = [0] * (n+1)\n",
    "    for i in range(n-1, -1, -1):\n",
    "        s = A[i] + B[i] + r\n",
    "\n",
    "        C[i+1] = s % 2\n",
    "        r = s // 2\n",
    "    C[0] = r\n",
    "    return \"\".join(str(i) for i in C)\n",
    "\n",
    "random_binaries = [\n",
    "    '11010101',\n",
    "    '01101100',\n",
    "    '10111010',\n",
    "    '00011111',\n",
    "    '11100010',\n",
    "    '01010101',\n",
    "    '10011001',\n",
    "    '00101110',\n",
    "    '11001011',\n",
    "    '01110010'\n",
    "]\n",
    "\n",
    "inputs = [random.sample(random_binaries,2) for _ in range(50)]\n",
    "\n",
    "for (A,B) in inputs:\n",
    "    C = bit_sum([int(i) for i in A], [int(i) for i in B], len(list(A)))\n",
    "    S = bin(int(A, 2) + int(B, 2))[2:]\n",
    "\n",
    "    assert int(C, 2) == int(S, 2)\n"
   ]
  }
 ],
 "metadata": {
  "kernelspec": {
   "display_name": "base",
   "language": "python",
   "name": "python3"
  },
  "language_info": {
   "codemirror_mode": {
    "name": "ipython",
    "version": 3
   },
   "file_extension": ".py",
   "mimetype": "text/x-python",
   "name": "python",
   "nbconvert_exporter": "python",
   "pygments_lexer": "ipython3",
   "version": "3.8.18"
  }
 },
 "nbformat": 4,
 "nbformat_minor": 2
}
