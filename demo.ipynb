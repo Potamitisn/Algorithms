{
 "cells": [
  {
   "cell_type": "code",
   "execution_count": 1,
   "metadata": {},
   "outputs": [],
   "source": [
    "import random\n",
    "\n",
    "from src.sorting import *\n",
    "\n",
    "%load_ext autoreload\n",
    "%autoreload 2"
   ]
  },
  {
   "cell_type": "markdown",
   "metadata": {},
   "source": [
    "# Sorting"
   ]
  },
  {
   "cell_type": "code",
   "execution_count": 2,
   "metadata": {},
   "outputs": [],
   "source": [
    "input = [random.randint(a=-10000, b=10000) for i in range(10000)]"
   ]
  },
  {
   "cell_type": "markdown",
   "metadata": {},
   "source": [
    "## Insertion-sort\n",
    "\n",
    "<div style=\"background-color:rgba(0, 0, 0, 0.0470588); padding:10px 0;font-family:monospace;\">\n",
    "<b><u>Insertion-Sort(A,n)</u></b><br>\n",
    "for j in range(1, n)<br>\n",
    "&nbsp;&nbsp;&nbsp;&nbsp;key = A[j]<br>\n",
    "&nbsp;&nbsp;&nbsp;&nbsp;i = j-1<br>\n",
    "&nbsp;&nbsp;&nbsp;&nbsp;while i>=0 and A[i]>key<br>\n",
    "&nbsp;&nbsp;&nbsp;&nbsp;&nbsp;&nbsp;&nbsp;&nbsp;A[i+1] = A[i]<br>\n",
    "&nbsp;&nbsp;&nbsp;&nbsp;&nbsp;&nbsp;&nbsp;&nbsp;i = i - 1<br>\n",
    "&nbsp;&nbsp;&nbsp;&nbsp;A[i+1] = key<br>\n",
    "</div>"
   ]
  },
  {
   "cell_type": "code",
   "execution_count": 3,
   "metadata": {},
   "outputs": [],
   "source": [
    "output = insertion_sort(input.copy(), len(input))\n",
    "assert output == sorted(input)"
   ]
  },
  {
   "cell_type": "markdown",
   "metadata": {},
   "source": [
    "## Merge-sort\n",
    "\n",
    "<div style=\"background-color:rgba(0, 0, 0, 0.0470588); padding:10px 0;font-family:monospace;\">\n",
    "<b><u>Merge-Sort(A,p,r)</u></b><br>\n",
    "if r-p>1:<br>\n",
    "&nbsp;&nbsp;&nbsp;&nbsp;q = (r+p+1)//2<br>\n",
    "&nbsp;&nbsp;&nbsp;&nbsp;Merge-Sort(A, p, q)<br>\n",
    "&nbsp;&nbsp;&nbsp;&nbsp;Merge-Sort(A, q, r)<br>\n",
    "&nbsp;&nbsp;&nbsp;&nbsp;Merge(A, p, q, r)<br>\n",
    "<br><br>\n",
    "<b><u>Merge(A,p,q,r)</u></b><br>\n",
    "L1 = A[p:q] + [inf]<br>\n",
    "L2 = A[q:r] + [inf]<br>\n",
    "\n",
    "for i in range(p, r):<br>\n",
    "&nbsp;&nbsp;&nbsp;&nbsp;if L1[0] <= L2[0]:<br>\n",
    "&nbsp;&nbsp;&nbsp;&nbsp;&nbsp;&nbsp;&nbsp;&nbsp;A[i] = L1.pop(0)<br>\n",
    "&nbsp;&nbsp;&nbsp;&nbsp;else:<br>\n",
    "&nbsp;&nbsp;&nbsp;&nbsp;&nbsp;&nbsp;&nbsp;&nbsp;A[i] = L2.pop(0)<br>\n",
    "</div>"
   ]
  },
  {
   "cell_type": "code",
   "execution_count": 4,
   "metadata": {},
   "outputs": [],
   "source": [
    "output = merge_sort(input.copy(), 0, len(input), verbose=False)\n",
    "assert output == sorted(input)"
   ]
  }
 ],
 "metadata": {
  "kernelspec": {
   "display_name": "base",
   "language": "python",
   "name": "python3"
  },
  "language_info": {
   "codemirror_mode": {
    "name": "ipython",
    "version": 3
   },
   "file_extension": ".py",
   "mimetype": "text/x-python",
   "name": "python",
   "nbconvert_exporter": "python",
   "pygments_lexer": "ipython3",
   "version": "3.8.18"
  }
 },
 "nbformat": 4,
 "nbformat_minor": 2
}
